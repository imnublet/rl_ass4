{
 "cells": [
  {
   "cell_type": "code",
   "execution_count": 2,
   "id": "0e78a7aa-3e27-4d95-8c9e-19c137429c5a",
   "metadata": {},
   "outputs": [],
   "source": [
    "# Install OpenAI Gym dependencies\n",
    "# !pip install Box2D\n",
    "# !pip install box2d-py\n",
    "# !pip install gym[all]\n",
    "# !pip install Box2D\n",
    "# !pip install box2d box2d-kengz\n",
    "# Imports\n",
    "import gym\n",
    "import pygame\n",
    "import random\n",
    "from gym.utils.play import play\n",
    "import numpy as np"
   ]
  },
  {
   "cell_type": "code",
   "execution_count": 3,
   "id": "395865b2-e5b7-471d-a824-ff5a1977dbf4",
   "metadata": {},
   "outputs": [],
   "source": [
    "env_name = 'LunarLander-v2' # Create environment, source: https://www.gymlibrary.ml/environments\n",
    "env = gym.make(env_name) "
   ]
  },
  {
   "cell_type": "code",
   "execution_count": 1,
   "id": "475ff42c-e4a8-4c2d-9bd4-5a17cb2d38f9",
   "metadata": {},
   "outputs": [],
   "source": [
    "# Agent class\n",
    "class Agent():\n",
    "    def __init__(self, env):\n",
    "        self.n_actions = env.action_space.n\n",
    "        print(\"Action size:\", self.n_actions)\n",
    "    \n",
    "    def get_action(self, state): \n",
    "        action = random.choice(range(self.n_actions))\n",
    "        return action"
   ]
  },
  {
   "cell_type": "code",
   "execution_count": 5,
   "id": "27a1fc35-5670-4a09-9757-7c34900ffd76",
   "metadata": {},
   "outputs": [
    {
     "name": "stdout",
     "output_type": "stream",
     "text": [
      "Action size: 4\n"
     ]
    }
   ],
   "source": [
    "agent = Agent(env) # Instantiate agent class and pass env\n",
    "state = env.reset() # Reset env and assign starting state\n",
    "\n",
    "for _ in range(200):\n",
    "    action = agent.get_action(state) # Sample action\n",
    "    state, reward, done, info = env.step(action) # Step\n",
    "    env.render()"
   ]
  },
  {
   "cell_type": "code",
   "execution_count": null,
   "id": "5f05eaab-5a7b-447f-ace7-fe27ee987963",
   "metadata": {},
   "outputs": [],
   "source": []
  },
  {
   "cell_type": "code",
   "execution_count": null,
   "id": "f24e04ed-e910-44b7-89b1-2be5c3255690",
   "metadata": {},
   "outputs": [],
   "source": []
  }
 ],
 "metadata": {
  "kernelspec": {
   "display_name": "Python 3 (ipykernel)",
   "language": "python",
   "name": "python3"
  },
  "language_info": {
   "codemirror_mode": {
    "name": "ipython",
    "version": 3
   },
   "file_extension": ".py",
   "mimetype": "text/x-python",
   "name": "python",
   "nbconvert_exporter": "python",
   "pygments_lexer": "ipython3",
   "version": "3.9.7"
  }
 },
 "nbformat": 4,
 "nbformat_minor": 5
}
